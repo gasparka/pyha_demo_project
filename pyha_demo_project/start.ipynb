{
 "cells": [
  {
   "cell_type": "code",
   "execution_count": 1,
   "metadata": {},
   "outputs": [],
   "source": [
    "from redbaron import redbaron\n",
    "redbaron.ipython_behavior = False\n",
    "\n",
    "import numpy as np\n",
    "np.random.seed(0)  # reproduce tests\n",
    "import scipy.signal\n",
    "import pandas as pd\n",
    "from pyha import Sfix, simulate, hardware_sims_equal, sims_close\n",
    "import os\n",
    "\n",
    "# this ignores some 'log' warnings that would fail the unit tests as they include system path\n",
    "import warnings\n",
    "warnings.filterwarnings('ignore')\n",
    "\n",
    "\n",
    "import matplotlib\n",
    "# set 'interactive' to False and run 'Restart & Run all' before you commit this notebook, else you will get failed tests in CI.\n",
    "# also consider running in virtualenv, tests may fail if, for example, matplotlib versions differ\n",
    "interactive = False\n",
    "if interactive:\n",
    "    matplotlib.use('nbagg')\n",
    "    from pylab import rcParams\n",
    "    rcParams['figure.figsize'] = 9, 4\n",
    "    %load_ext autoreload\n",
    "    %autoreload 2\n",
    "    \n",
    "import matplotlib.pyplot as plt\n",
    "def show_plot():\n",
    "    plt.tight_layout()\n",
    "    plt.grid()\n",
    "    if plt.gca().get_legend_handles_labels() != ([], []):\n",
    "        plt.legend()\n",
    "    plt.show()"
   ]
  },
  {
   "cell_type": "markdown",
   "metadata": {},
   "source": [
    "# Design filter"
   ]
  },
  {
   "cell_type": "code",
   "execution_count": 2,
   "metadata": {
    "scrolled": true
   },
   "outputs": [
    {
     "data": {
      "image/png": "[encoded data removed]",
      "text/plain": [
       "<matplotlib.figure.Figure at 0x7f1fe0f1bc18>"
      ]
     },
     "metadata": {},
     "output_type": "display_data"
    }
   ],
   "source": [
    "taps = scipy.signal.remez(64, [0, 0.2, 0.275, 0.5], [1, 0])\n",
    "w, h = scipy.signal.freqz(taps)\n",
    "\n",
    "fig, ax1 = plt.subplots(1, 1)\n",
    "plt.title('Digital filter frequency response')\n",
    "ax1.plot(w / np.pi, 20 * np.log10(abs(h)), 'b')\n",
    "ax1.set_ylabel('Amplitude [dB]', color='b')\n",
    "ax1.set_xlabel('Frequency')\n",
    "plt.grid()\n",
    "ax2 = ax1.twinx()\n",
    "angles = np.unwrap(np.angle(h))\n",
    "ax2.plot(w / np.pi, angles, 'g')\n",
    "ax2.set_ylabel('Angle (radians)', color='g')\n",
    "ax2.axis('tight')\n",
    "plt.show()"
   ]
  },
  {
   "cell_type": "markdown",
   "metadata": {},
   "source": [
    "# Diagram"
   ]
  },
  {
   "cell_type": "markdown",
   "metadata": {},
   "source": [
    "![alt text](diagram.png \"Title\")"
   ]
  },
  {
   "cell_type": "code",
   "execution_count": 3,
   "metadata": {},
   "outputs": [],
   "source": [
    "# scipy.signal.lfilter(taps, [1.0], filter_input)"
   ]
  },
  {
   "cell_type": "markdown",
   "metadata": {},
   "source": [
    "# Pyha model"
   ]
  },
  {
   "cell_type": "code",
   "execution_count": 4,
   "metadata": {},
   "outputs": [],
   "source": [
    "from pyha import Hardware, Complex\n",
    "from pyhacores.filter import FIR\n",
    "\n",
    "class BasebandFilter(Hardware):\n",
    "    def __init__(self, taps):\n",
    "        self.TAPS = taps\n",
    "        self.fir = [FIR(taps), FIR(taps)]\n",
    "        \n",
    "        self.DELAY = 2\n",
    "    def main(self, x):\n",
    "        real = self.fir[0].main(x.real)\n",
    "        imag = self.fir[1].main(x.imag)\n",
    "        return Complex(real, imag)\n",
    "\n",
    "    def model_main(self, x):\n",
    "        return scipy.signal.lfilter(self.TAPS, [1.0], x)\n",
    "    \n",
    "# simulations = ['MODEL', 'PYHA', 'RTL', 'GATE']\n",
    "simulations = ['MODEL', 'PYHA', 'RTL']\n",
    "# simulate(...)"
   ]
  },
  {
   "cell_type": "code",
   "execution_count": null,
   "metadata": {},
   "outputs": [],
   "source": []
  },
  {
   "cell_type": "markdown",
   "metadata": {},
   "source": [
    "# Experiment 1: frequency response"
   ]
  },
  {
   "cell_type": "code",
   "execution_count": 5,
   "metadata": {},
   "outputs": [],
   "source": [
    "# get impulse response of the filter\n",
    "inp = [0.0 + 0.0j] * 512\n",
    "inp[0] = 1.0 + 1.0j"
   ]
  },
  {
   "cell_type": "code",
   "execution_count": 6,
   "metadata": {
    "scrolled": false
   },
   "outputs": [
    {
     "name": "stderr",
     "output_type": "stream",
     "text": [
      "INFO:simulation:Running MODEL simulation!\n",
      "INFO:simulation:Running PYHA simulation!\n",
      "INFO:simulation:Converting complex inputs to ComplexSfix [0:-17]\n",
      "WARNING:sfix:SATURATION 1 -> 0.999992\t[inputs]\n",
      "WARNING:sfix:SATURATION 1 -> 0.999992\t[inputs]\n",
      "INFO:core:Converted FIR.TAPS:\n",
      "                    fixed     float\n",
      "0    7.62939e-06 [0:-17]  0.000006\n",
      "1    0.000152588 [0:-17]  0.000151\n",
      "2    7.62939e-06 [0:-17]  0.000006\n",
      "3   -0.000328064 [0:-17] -0.000329\n",
      "4   -9.15527e-05 [0:-17] -0.000091\n",
      "5    0.000648499 [0:-17]  0.000650\n",
      "6    0.000312805 [0:-17]  0.000315\n",
      "7    -0.00111389 [0:-17] -0.001115\n",
      "8   -0.000778198 [0:-17] -0.000779\n",
      "9     0.00171661 [0:-17]  0.001719\n",
      "10    0.00161743 [0:-17]  0.001615\n",
      "11   -0.00241089 [0:-17] -0.002414\n",
      "12   -0.00298309 [0:-17] -0.002980\n",
      "13    0.00309753 [0:-17]  0.003098\n",
      "14    0.00505066 [0:-17]  0.005048\n",
      "15   -0.00360107 [0:-17] -0.003599\n",
      "..                   ...       ...\n",
      "48   -0.00360107 [0:-17] -0.003599\n",
      "49    0.00505066 [0:-17]  0.005048\n",
      "50    0.00309753 [0:-17]  0.003098\n",
      "51   -0.00298309 [0:-17] -0.002980\n",
      "52   -0.00241089 [0:-17] -0.002414\n",
      "53    0.00161743 [0:-17]  0.001615\n",
      "54    0.00171661 [0:-17]  0.001719\n",
      "55  -0.000778198 [0:-17] -0.000779\n",
      "56   -0.00111389 [0:-17] -0.001115\n",
      "57   0.000312805 [0:-17]  0.000315\n",
      "58   0.000648499 [0:-17]  0.000650\n",
      "59  -9.15527e-05 [0:-17] -0.000091\n",
      "60  -0.000328064 [0:-17] -0.000329\n",
      "61   7.62939e-06 [0:-17]  0.000006\n",
      "62   0.000152588 [0:-17]  0.000151\n",
      "63   7.62939e-06 [0:-17]  0.000006\n",
      "\n",
      "[64 rows x 2 columns]\n",
      "INFO:core:Converted FIR.TAPS:\n",
      "                    fixed     float\n",
      "0    7.62939e-06 [0:-17]  0.000006\n",
      "1    0.000152588 [0:-17]  0.000151\n",
      "2    7.62939e-06 [0:-17]  0.000006\n",
      "3   -0.000328064 [0:-17] -0.000329\n",
      "4   -9.15527e-05 [0:-17] -0.000091\n",
      "5    0.000648499 [0:-17]  0.000650\n",
      "6    0.000312805 [0:-17]  0.000315\n",
      "7    -0.00111389 [0:-17] -0.001115\n",
      "8   -0.000778198 [0:-17] -0.000779\n",
      "9     0.00171661 [0:-17]  0.001719\n",
      "10    0.00161743 [0:-17]  0.001615\n",
      "11   -0.00241089 [0:-17] -0.002414\n",
      "12   -0.00298309 [0:-17] -0.002980\n",
      "13    0.00309753 [0:-17]  0.003098\n",
      "14    0.00505066 [0:-17]  0.005048\n",
      "15   -0.00360107 [0:-17] -0.003599\n",
      "..                   ...       ...\n",
      "48   -0.00360107 [0:-17] -0.003599\n",
      "49    0.00505066 [0:-17]  0.005048\n",
      "50    0.00309753 [0:-17]  0.003098\n",
      "51   -0.00298309 [0:-17] -0.002980\n",
      "52   -0.00241089 [0:-17] -0.002414\n",
      "53    0.00161743 [0:-17]  0.001615\n",
      "54    0.00171661 [0:-17]  0.001719\n",
      "55  -0.000778198 [0:-17] -0.000779\n",
      "56   -0.00111389 [0:-17] -0.001115\n",
      "57   0.000312805 [0:-17]  0.000315\n",
      "58   0.000648499 [0:-17]  0.000650\n",
      "59  -9.15527e-05 [0:-17] -0.000091\n",
      "60  -0.000328064 [0:-17] -0.000329\n",
      "61   7.62939e-06 [0:-17]  0.000006\n",
      "62   0.000152588 [0:-17]  0.000151\n",
      "63   7.62939e-06 [0:-17]  0.000006\n",
      "\n",
      "[64 rows x 2 columns]\n",
      "INFO:simulation:Running RTL simulation!\n",
      "WARNING:conversion:Found \"BasebandFilter\" source from IPython history!\n",
      "INFO:simulation:Converting complex inputs to ComplexSfix [0:-17]\n",
      "WARNING:sfix:SATURATION 1 -> 0.999992\t[inputs]\n",
      "WARNING:sfix:SATURATION 1 -> 0.999992\t[inputs]\n",
      "INFO:simulation:Running COCOTB & GHDL simulation....\n",
      "INFO:simulation:Simulations completed!\n"
     ]
    }
   ],
   "source": [
    "dut = BasebandFilter(taps)\n",
    "# with Sfix._float_mode:\n",
    "sims = simulate(dut, inp, simulations=simulations)"
   ]
  },
  {
   "cell_type": "code",
   "execution_count": null,
   "metadata": {},
   "outputs": [],
   "source": [
    "pd.DataFrame(sims)"
   ]
  },
  {
   "cell_type": "code",
   "execution_count": null,
   "metadata": {},
   "outputs": [],
   "source": [
    "gain_fix = 512-128-22 # this is not 100% precise\n",
    "plt.title('Digital filter frequency response')\n",
    "plt.magnitude_spectrum(np.array(sims['MODEL']) * gain_fix, window=matplotlib.mlab.window_none, scale='dB', label='MODEL')\n",
    "plt.magnitude_spectrum(np.array(sims['PYHA']) * gain_fix, window=matplotlib.mlab.window_none, scale='dB', label='PYHA')\n",
    "\n",
    "plt.ylabel('Amplitude [dB]')\n",
    "plt.xlabel('Frequency')\n",
    "show_plot()"
   ]
  },
  {
   "cell_type": "markdown",
   "metadata": {},
   "source": [
    "# Experiment 2: two peaks"
   ]
  },
  {
   "cell_type": "code",
   "execution_count": null,
   "metadata": {},
   "outputs": [],
   "source": [
    "fs = 256\n",
    "t = np.linspace(0, 2, 2*fs)\n",
    "s0 = np.exp(2 * np.pi * 2 * t * 1j) * 0.5\n",
    "s1 = np.exp(2 * np.pi * 80 * t * 1j) * 0.5\n",
    "inp = s0 + s1\n",
    "\n",
    "plt.title('Input, time domain, real channel')\n",
    "plt.plot(inp.real)\n",
    "show_plot()\n",
    "\n",
    "plt.title('Input, frequency domain')\n",
    "plt.magnitude_spectrum(inp, scale='dB')\n",
    "show_plot()"
   ]
  },
  {
   "cell_type": "code",
   "execution_count": null,
   "metadata": {},
   "outputs": [],
   "source": [
    "dut = BasebandFilter(taps)\n",
    "sims = simulate(dut, inp, simulations=simulations) # run all simulations"
   ]
  },
  {
   "cell_type": "code",
   "execution_count": null,
   "metadata": {},
   "outputs": [],
   "source": [
    "plt.title('Output, time domain, real channel')\n",
    "plt.plot(np.array(sims['MODEL']).real, label='MODEL')\n",
    "plt.plot(np.array(sims['PYHA']).real, label='PYHA')\n",
    "show_plot()\n",
    "\n",
    "plt.title('Output, frequency domain')\n",
    "plt.magnitude_spectrum(sims['MODEL'], scale='dB', label='MODEL')\n",
    "plt.magnitude_spectrum(sims['PYHA'], scale='dB', label='PYHA')\n",
    "show_plot()"
   ]
  },
  {
   "cell_type": "markdown",
   "metadata": {},
   "source": [
    "# Noise response"
   ]
  },
  {
   "cell_type": "code",
   "execution_count": null,
   "metadata": {},
   "outputs": [],
   "source": [
    "inp = np.random.uniform(-1, 1, 512) + np.random.uniform(-1, 1, 512)*1j\n",
    "inp *= 0.75\n",
    "\n",
    "dut = BasebandFilter(taps)\n",
    "sims = simulate(dut, inp, simulations=simulations)"
   ]
  },
  {
   "cell_type": "code",
   "execution_count": null,
   "metadata": {},
   "outputs": [],
   "source": [
    "plt.title('Digital filter frequency response')\n",
    "plt.magnitude_spectrum(inp, scale='dB', label='INPUT')\n",
    "plt.magnitude_spectrum(sims['MODEL'], scale='dB', label='MODEL')\n",
    "plt.magnitude_spectrum(sims['PYHA'], scale='dB', label='PYHA')\n",
    "plt.ylabel('Amplitude [dB]')\n",
    "plt.xlabel('Frequency')\n",
    "show_plot()"
   ]
  },
  {
   "cell_type": "code",
   "execution_count": null,
   "metadata": {},
   "outputs": [],
   "source": []
  }
 ],
 "metadata": {
  "kernelspec": {
   "display_name": "Python 3",
   "language": "python",
   "name": "python3"
  },
  "language_info": {
   "codemirror_mode": {
    "name": "ipython",
    "version": 3
   },
   "file_extension": ".py",
   "mimetype": "text/x-python",
   "name": "python",
   "nbconvert_exporter": "python",
   "pygments_lexer": "ipython3",
   "version": "3.6.3"
  }
 },
 "nbformat": 4,
 "nbformat_minor": 1
}
